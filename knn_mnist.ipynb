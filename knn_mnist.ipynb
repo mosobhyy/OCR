{
 "cells": [
  {
   "cell_type": "markdown",
   "metadata": {
    "id": "q12V_7XrvIVX"
   },
   "source": [
    "# **Import Libraries**"
   ]
  },
  {
   "cell_type": "code",
   "execution_count": 1,
   "metadata": {
    "id": "h3xIflVvafLK"
   },
   "outputs": [
    {
     "name": "stderr",
     "output_type": "stream",
     "text": [
      "2022-03-23 01:34:58.569851: W tensorflow/stream_executor/platform/default/dso_loader.cc:64] Could not load dynamic library 'libcudart.so.11.0'; dlerror: libcudart.so.11.0: cannot open shared object file: No such file or directory\n",
      "2022-03-23 01:34:58.569926: I tensorflow/stream_executor/cuda/cudart_stub.cc:29] Ignore above cudart dlerror if you do not have a GPU set up on your machine.\n"
     ]
    }
   ],
   "source": [
    "import matplotlib.pyplot as plt\n",
    "from sklearn.metrics import accuracy_score\n",
    "from keras.datasets import mnist\n",
    "import numpy as np\n",
    "from sklearn.neighbors import KNeighborsClassifier\n",
    "from sklearn.model_selection import train_test_split"
   ]
  },
  {
   "cell_type": "markdown",
   "metadata": {
    "id": "XwiilbMxv0DK"
   },
   "source": [
    "# **Load MNIST Dataset**"
   ]
  },
  {
   "cell_type": "code",
   "execution_count": 2,
   "metadata": {
    "id": "44-QCnGPao8c"
   },
   "outputs": [],
   "source": [
    "(x_train, y_train), (x_test, y_test) = mnist.load_data()\n",
    "x_train, y_train, x_test, y_test = x_train[:10000], y_train[:10000], x_test[:1000], y_test[:1000]"
   ]
  },
  {
   "cell_type": "code",
   "execution_count": 3,
   "metadata": {
    "colab": {
     "base_uri": "https://localhost:8080/"
    },
    "id": "69Wo1mF9as6u",
    "outputId": "e8fbe9a5-cbcb-4f28-d9d4-b816dda89858"
   },
   "outputs": [
    {
     "name": "stdout",
     "output_type": "stream",
     "text": [
      "(10000, 28, 28)\n",
      "(10000,)\n",
      "(1000, 28, 28)\n",
      "(1000,)\n"
     ]
    }
   ],
   "source": [
    "print(x_train.shape, y_train.shape, x_test.shape, y_test.shape, sep='\\n')"
   ]
  },
  {
   "cell_type": "markdown",
   "metadata": {
    "id": "x-zek8fsv_xM"
   },
   "source": [
    "# **Visualize Dataset**"
   ]
  },
  {
   "cell_type": "code",
   "execution_count": 4,
   "metadata": {
    "colab": {
     "base_uri": "https://localhost:8080/",
     "height": 591
    },
    "id": "0IeR8W3Bv_KO",
    "outputId": "a4872d37-ac96-44e4-fb6a-6fb570b4c1c4"
   },
   "outputs": [
    {
     "data": {
      "image/png": "[encoded data removed]",
      "text/plain": [
       "<Figure size 720x720 with 9 Axes>"
      ]
     },
     "metadata": {
      "needs_background": "light"
     },
     "output_type": "display_data"
    }
   ],
   "source": [
    "fig = plt.figure(figsize=(10, 10))\n",
    "rows = 3\n",
    "columns = 3\n",
    "\n",
    "for i in range(rows*columns):\n",
    "  fig.add_subplot(rows, columns, i+1)\n",
    "  plt.imshow(x_train[i])\n",
    "  plt.axis('off')\n",
    "  plt.title(y_train[i])"
   ]
  },
  {
   "cell_type": "markdown",
   "metadata": {
    "id": "Og3SKQ6FvPn4"
   },
   "source": [
    "# **Feature Extraction**"
   ]
  },
  {
   "cell_type": "code",
   "execution_count": 5,
   "metadata": {
    "id": "4z-FEv5Wamv-"
   },
   "outputs": [],
   "source": [
    "def calculate_centriods(img, r, c):\n",
    "    centroids = []\n",
    "    for row in range(0, img.shape[0], r):\n",
    "        for col in range(0, img.shape[1], c):\n",
    "          result = sum([sum(img[row+i][col:col+c]) for i in range(r)])\n",
    "          centroid = result / (r*c)\n",
    "          centroids.append(centroid)\n",
    "    return centroids"
   ]
  },
  {
   "cell_type": "code",
   "execution_count": 6,
   "metadata": {
    "id": "i7dr3eP6arfk"
   },
   "outputs": [],
   "source": [
    "centroid_train = []\n",
    "for img in x_train:\n",
    "  centroid = calculate_centriods(img, 4, 4)\n",
    "  centroid_train.append(centroid)\n",
    "\n",
    "\n",
    "centroid_test = []\n",
    "for img in x_test:\n",
    "  centroid = calculate_centriods(img, 4, 4)\n",
    "  centroid_test.append(centroid)"
   ]
  },
  {
   "cell_type": "markdown",
   "metadata": {
    "id": "BMPcMl365iVo"
   },
   "source": [
    "# **KNN Classifier**"
   ]
  },
  {
   "cell_type": "code",
   "execution_count": 7,
   "metadata": {
    "colab": {
     "base_uri": "https://localhost:8080/"
    },
    "id": "_n6Zbl_cfwRK",
    "outputId": "26d7fb21-ba7f-4642-d38e-d2db7571ef54"
   },
   "outputs": [
    {
     "name": "stdout",
     "output_type": "stream",
     "text": [
      "Accuracy Score = 90.8 %\n"
     ]
    }
   ],
   "source": [
    "knn = KNeighborsClassifier(n_neighbors=1)\n",
    "knn.fit(centroid_train, y_train)\n",
    "\n",
    "predictions = knn.predict(centroid_test)\n",
    "\n",
    "print(\"Accuracy Score =\", accuracy_score(y_test, predictions) * 100, \"%\")"
   ]
  }
 ],
 "metadata": {
  "colab": {
   "collapsed_sections": [],
   "name": "knn_mnist.ipynb",
   "provenance": []
  },
  "kernelspec": {
   "display_name": "Python 3 (ipykernel)",
   "language": "python",
   "name": "python3"
  },
  "language_info": {
   "codemirror_mode": {
    "name": "ipython",
    "version": 3
   },
   "file_extension": ".py",
   "mimetype": "text/x-python",
   "name": "python",
   "nbconvert_exporter": "python",
   "pygments_lexer": "ipython3",
   "version": "3.8.10"
  }
 },
 "nbformat": 4,
 "nbformat_minor": 1
}
